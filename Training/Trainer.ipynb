{
 "cells": [
  {
   "cell_type": "markdown",
   "metadata": {},
   "source": [
    "#### Convert input-and-label pairs to a single train and a eval jsonl"
   ]
  },
  {
   "cell_type": "code",
   "execution_count": 1,
   "metadata": {},
   "outputs": [],
   "source": [
    "import json\n",
    "import glob\n",
    "import os\n",
    "from sklearn.model_selection import train_test_split\n",
    "import random\n",
    "\n"
   ]
  },
  {
   "cell_type": "code",
   "execution_count": 2,
   "metadata": {},
   "outputs": [
    {
     "name": "stdout",
     "output_type": "stream",
     "text": [
      "Loaded 99 valid objects from ./InputNLabel/filtered_labels/filtered_formatted.json\n",
      "Using 30 objects from ./InputNLabel/filtered_labels/filtered_formatted.json\n",
      "Loaded 100 valid objects from ./InputNLabel/filtered_labels/filtered_randoms.json\n",
      "Using 30 objects from ./InputNLabel/filtered_labels/filtered_randoms.json\n",
      "Loaded 100 valid objects from ./InputNLabel/filtered_labels/filtered_receipts.json\n",
      "Using 30 objects from ./InputNLabel/filtered_labels/filtered_receipts.json\n",
      "Loaded 30 valid objects from ./InputNLabel/filtered_labels/filtered_reports.json\n",
      "Using 10 objects from ./InputNLabel/filtered_labels/filtered_reports.json\n",
      "Loaded 300 valid objects from ./InputNLabel/prompt_sensitive_translated/formatted_2.json\n",
      "Using 300 objects from ./InputNLabel/prompt_sensitive_translated/formatted_2.json\n",
      "Loaded 300 valid objects from ./InputNLabel/prompt_sensitive_translated/random_2.json\n",
      "Using 300 objects from ./InputNLabel/prompt_sensitive_translated/random_2.json\n",
      "Loaded 300 valid objects from ./InputNLabel/prompt_sensitive_translated/receipts_2.json\n",
      "Using 300 objects from ./InputNLabel/prompt_sensitive_translated/receipts_2.json\n",
      "Loaded 300 valid objects from ./InputNLabel/prompt_sensitive_translated/reports_2.json\n",
      "Using 300 objects from ./InputNLabel/prompt_sensitive_translated/reports_2.json\n",
      "Total combined dataset size: 1300\n",
      "Train data saved to: train.jsonl (1170 entries)\n",
      "Eval data saved to: eval.jsonl (130 entries)\n"
     ]
    }
   ],
   "source": [
    "filtered_pairs= \"./InputNLabel/filtred_labels\"\n",
    "file_and_limits = {\n",
    "    \"./InputNLabel/filtered_labels/filtered_formatted.json\": 30,\n",
    "    \"./InputNLabel/filtered_labels/filtered_randoms.json\": 30,\n",
    "    \"./InputNLabel/filtered_labels/filtered_receipts.json\": 30,\n",
    "    \"./InputNLabel/filtered_labels/filtered_reports.json\": 10,\n",
    "    \"./InputNLabel/prompt_sensitive_translated/formatted_2.json\": 300,\n",
    "    \"./InputNLabel/prompt_sensitive_translated/random_2.json\": 300,\n",
    "    \"./InputNLabel/prompt_sensitive_translated/receipts_2.json\": 300,\n",
    "    \"./InputNLabel/prompt_sensitive_translated/reports_2.json\": 300,\n",
    "}\n",
    "\n",
    "\n",
    "train_output_file = \"train.jsonl\"\n",
    "eval_output_file = \"eval.jsonl\"\n",
    "\n",
    "all_data = []\n",
    "\n",
    "\n",
    "for file_path, limit in file_and_limits.items():\n",
    "    with open(file_path, \"r\", encoding=\"utf-8\") as file:\n",
    "        data = file.read().strip()\n",
    "\n",
    "        # Fix concatenated JSON objects\n",
    "        objs = data.split(\"}{\")\n",
    "\n",
    "        parsed_objs = []\n",
    "        for i, obj in enumerate(objs):\n",
    "            if not obj.startswith(\"{\"):\n",
    "                obj = \"{\" + obj\n",
    "            if not obj.endswith(\"}\"):\n",
    "                obj = obj + \"}\"\n",
    "            try:\n",
    "                parsed = json.loads(obj)\n",
    "                parsed_objs.append(parsed)\n",
    "            except json.JSONDecodeError as e:\n",
    "                print(f\"Error decoding JSON in file {file_path}, object {i}: {e}\")\n",
    "\n",
    "        print(f\"Loaded {len(parsed_objs)} valid objects from {file_path}\")\n",
    "\n",
    "        # Shuffle and select specified limit\n",
    "        random.shuffle(parsed_objs)\n",
    "        limited_data = parsed_objs[:limit]\n",
    "\n",
    "        print(f\"Using {len(limited_data)} objects from {file_path}\")\n",
    "        all_data.extend(limited_data)\n",
    "\n",
    "print(f\"Total combined dataset size: {len(all_data)}\")\n",
    "\n",
    "# Split combined data (90% train, 10% eval)\n",
    "train_data, eval_data = train_test_split(all_data, test_size=0.1, random_state=42)\n",
    "\n",
    "\n",
    "# Save train data\n",
    "with open(train_output_file, \"w\", encoding=\"utf-8\") as f:\n",
    "    for item in train_data:\n",
    "        json.dump(item, f, ensure_ascii=False)\n",
    "        f.write(\"\\n\")\n",
    "\n",
    "# Save eval data\n",
    "with open(eval_output_file, \"w\", encoding=\"utf-8\") as f:\n",
    "    for item in eval_data:\n",
    "        json.dump(item, f, ensure_ascii=False)\n",
    "        f.write(\"\\n\")\n",
    "\n",
    "print(f\"Train data saved to: {train_output_file} ({len(train_data)} entries)\")\n",
    "print(f\"Eval data saved to: {eval_output_file} ({len(eval_data)} entries)\")"
   ]
  },
  {
   "cell_type": "markdown",
   "metadata": {},
   "source": [
    "### Training LoRA for immediate summariztion on receiving text"
   ]
  },
  {
   "cell_type": "code",
   "execution_count": 3,
   "metadata": {},
   "outputs": [
    {
     "name": "stderr",
     "output_type": "stream",
     "text": [
      "2025-03-24 12:51:50.639916: I tensorflow/core/platform/cpu_feature_guard.cc:210] This TensorFlow binary is optimized to use available CPU instructions in performance-critical operations.\n",
      "To enable the following instructions: AVX2 FMA, in other operations, rebuild TensorFlow with the appropriate compiler flags.\n"
     ]
    }
   ],
   "source": [
    "import torch\n",
    "from transformers import (\n",
    "    AutoModelForCausalLM, \n",
    "    AutoTokenizer, \n",
    "    AutoConfig,\n",
    "    Trainer, \n",
    "    TrainingArguments, \n",
    "    DataCollatorForLanguageModeling\n",
    ")\n",
    "from datasets import load_dataset\n",
    "from transformers import BitsAndBytesConfig\n",
    "import numpy as np\n",
    "from peft import LoraConfig, get_peft_model, TaskType, prepare_model_for_kbit_training\n",
    "import evaluate\n"
   ]
  },
  {
   "cell_type": "code",
   "execution_count": null,
   "metadata": {},
   "outputs": [],
   "source": []
  },
  {
   "cell_type": "code",
   "execution_count": 4,
   "metadata": {},
   "outputs": [],
   "source": [
    "from huggingface_hub import login\n",
    "#login()\n",
    "MODEL_NAME =\"meta-llama/Llama-3.2-3B-Instruct\"  \n"
   ]
  },
  {
   "cell_type": "code",
   "execution_count": 5,
   "metadata": {},
   "outputs": [],
   "source": [
    "\n",
    "# Load datasets\n",
    "\n",
    "tokenizer = AutoTokenizer.from_pretrained(MODEL_NAME, use_fast=True)\n",
    "tokenizer.pad_token = tokenizer.eos_token\n",
    "# Data preprocessing\n",
    "def preprocess( example):\n",
    "    prompt = f\"Summarize:\\n{example['input']}\\n\\nSummary:\\n\"\n",
    "    full_text = prompt + example[\"output\"]\n",
    "    tokenized = tokenizer(full_text, truncation=True, padding=\"max_length\", max_length=2048)\n",
    "    labels = tokenized[\"input_ids\"].copy()\n",
    "    \n",
    "    # Mask input prompt tokens in loss calculation\n",
    "    prompt_token_len = len(tokenizer(prompt, truncation=True)[\"input_ids\"])\n",
    "    labels[:prompt_token_len] = [-100] * prompt_token_len\n",
    "    tokenized[\"labels\"] = labels\n",
    "    \n",
    "    return tokenized\n",
    "\n",
    "\n"
   ]
  },
  {
   "cell_type": "code",
   "execution_count": 6,
   "metadata": {},
   "outputs": [],
   "source": [
    "\n",
    "#compute different metrics\n",
    "rouge = evaluate.load('rouge')\n",
    "bleu = evaluate.load('bleu')\n",
    "def compute_metrics( eval_pred):\n",
    "    preds, labels = eval_pred\n",
    "    preds = np.argmax(preds, axis=-1)\n",
    "    \n",
    "    decoded_preds = tokenizer.batch_decode(preds, skip_special_tokens=True)\n",
    "    decoded_labels = tokenizer.batch_decode(labels, skip_special_tokens=True)\n",
    "\n",
    "    decoded_preds = [pred.split(\"Summary:\\n\")[-1].strip() for pred in decoded_preds]\n",
    "    decoded_labels = [label.split(\"Summary:\\n\")[-1].strip() for label in decoded_labels]\n",
    "\n",
    "    rouge_result = rouge.compute(predictions=decoded_preds, references=decoded_labels)\n",
    "    bleu_result = bleu.compute(predictions=[p.split() for p in decoded_preds],\n",
    "                               references=[[l.split()] for l in decoded_labels])\n",
    "\n",
    "    return {\n",
    "        \"rouge1\": rouge_result[\"rouge1\"],\n",
    "        \"rouge2\": rouge_result[\"rouge2\"],\n",
    "        \"rougeL\": rouge_result[\"rougeL\"],\n",
    "        \"bleu\": bleu_result[\"bleu\"],\n",
    "    }\n"
   ]
  },
  {
   "cell_type": "code",
   "execution_count": 7,
   "metadata": {},
   "outputs": [
    {
     "data": {
      "application/vnd.jupyter.widget-view+json": {
       "model_id": "5c31b90fb6ae43d9b52ffeca78d370d5",
       "version_major": 2,
       "version_minor": 0
      },
      "text/plain": [
       "Generating train split: 0 examples [00:00, ? examples/s]"
      ]
     },
     "metadata": {},
     "output_type": "display_data"
    },
    {
     "data": {
      "application/vnd.jupyter.widget-view+json": {
       "model_id": "a424bee3d1964be0ad4e9ced8e4ecd52",
       "version_major": 2,
       "version_minor": 0
      },
      "text/plain": [
       "Generating eval split: 0 examples [00:00, ? examples/s]"
      ]
     },
     "metadata": {},
     "output_type": "display_data"
    },
    {
     "data": {
      "application/vnd.jupyter.widget-view+json": {
       "model_id": "90da1acc6be144ce803c5425b45ee931",
       "version_major": 2,
       "version_minor": 0
      },
      "text/plain": [
       "Map:   0%|          | 0/1170 [00:00<?, ? examples/s]"
      ]
     },
     "metadata": {},
     "output_type": "display_data"
    },
    {
     "data": {
      "application/vnd.jupyter.widget-view+json": {
       "model_id": "e4487451c7064863a8ebbe16b876db28",
       "version_major": 2,
       "version_minor": 0
      },
      "text/plain": [
       "Map:   0%|          | 0/130 [00:00<?, ? examples/s]"
      ]
     },
     "metadata": {},
     "output_type": "display_data"
    }
   ],
   "source": [
    "\n",
    "dataset = load_dataset(\"json\", data_files={\"train\": \"train.jsonl\", \"eval\": \"eval.jsonl\"})\n",
    "\n",
    "train_data = dataset[\"train\"].map(preprocess)\n",
    "eval_data = dataset[\"eval\"].map(preprocess)\n",
    "\n",
    "train_data.set_format(\"torch\", columns=[\"input_ids\", \"attention_mask\", \"labels\"])\n",
    "eval_data.set_format(\"torch\", columns=[\"input_ids\", \"attention_mask\", \"labels\"])\n",
    "\n"
   ]
  },
  {
   "cell_type": "code",
   "execution_count": 8,
   "metadata": {},
   "outputs": [
    {
     "data": {
      "application/vnd.jupyter.widget-view+json": {
       "model_id": "3cf8576dbd17401485f569eb38e021de",
       "version_major": 2,
       "version_minor": 0
      },
      "text/plain": [
       "Loading checkpoint shards:   0%|          | 0/2 [00:00<?, ?it/s]"
      ]
     },
     "metadata": {},
     "output_type": "display_data"
    }
   ],
   "source": [
    "from functools import partial\n",
    "\n",
    "bnb_config = BitsAndBytesConfig(\n",
    "    load_in_4bit=True,\n",
    "    bnb_4bit_use_double_quant=True,\n",
    "    bnb_4bit_quant_type=\"nf4\",\n",
    "    bnb_4bit_compute_dtype=torch.float16\n",
    ")\n",
    "config = AutoConfig.from_pretrained(MODEL_NAME)\n",
    "# manually set rope_scaling to supported structure:\n",
    "config.rope_scaling = {\"type\": \"dynamic\", \"factor\": 2.0}\n",
    "config.inference_mode = False\n",
    "\n",
    "\n",
    "model = AutoModelForCausalLM.from_pretrained(\n",
    "    MODEL_NAME,\n",
    "    quantization_config=bnb_config,\n",
    "    device_map=\"auto\",\n",
    "    return_dict=True\n",
    ")\n",
    "#model.get_input_embeddings().weight.requires_grad = True\n",
    "\n",
    "model.gradient_checkpointing_enable()\n",
    "model.enable_input_require_grads()\n",
    "# LoRA configuration\n",
    "lora_config = LoraConfig(\n",
    "    r=16,\n",
    "    lora_alpha=32,\n",
    "    target_modules=[\"q_proj\", \"k_proj\", \"v_proj\", \"o_proj\"],\n",
    "    lora_dropout=0.05,\n",
    "    bias=\"none\",\n",
    "    task_type=TaskType.CAUSAL_LM\n",
    ")\n",
    "\n",
    "model = get_peft_model(model, lora_config)\n",
    "\n",
    "\n",
    "\n",
    "\n",
    "\n",
    "\n"
   ]
  },
  {
   "cell_type": "code",
   "execution_count": 9,
   "metadata": {},
   "outputs": [
    {
     "name": "stderr",
     "output_type": "stream",
     "text": [
      "No label_names provided for model class `PeftModelForCausalLM`. Since `PeftModel` hides base models input arguments, if label_names is not given, label_names can't be set automatically within `Trainer`. Note that empty label_names list will be used instead.\n"
     ]
    }
   ],
   "source": [
    "# training_args = TrainingArguments(\n",
    "#     output_dir=\"./summarizer_eval_output\",\n",
    "#     per_device_train_batch_size=2,         # Small batch fits easily \n",
    "#     per_device_eval_batch_size=2,\n",
    "#     gradient_accumulation_steps=4,         # Effective batch size: 2*4=8\n",
    "#     eval_strategy=\"steps\",\n",
    "#     eval_steps=50,                         # Frequent evaluation for 1,000 samples\n",
    "#     logging_steps=20,\n",
    "#     save_steps=50,                         # More frequent checkpoints\n",
    "#     learning_rate=2e-4,\n",
    "#     num_train_epochs=5,                    # Slightly more epochs due to small dataset\n",
    "#     fp16=True,\n",
    "#     report_to=\"none\",\n",
    "#     load_best_model_at_end=True,\n",
    "#     metric_for_best_model=\"rougeL\",\n",
    "#     greater_is_better=True,\n",
    "#     save_total_limit=3\n",
    "# )\n",
    "\n",
    "\n",
    "\n",
    "# training_args = TrainingArguments(\n",
    "#     output_dir=\"./summarizer_eval_output\",\n",
    "#     per_device_train_batch_size=1,         # <-- Reduce batch size to 1\n",
    "#     per_device_eval_batch_size=1,          # <-- Reduce eval batch size\n",
    "#     gradient_accumulation_steps=8,         # <-- Increase to compensate (effective batch size = 8)\n",
    "#     gradient_checkpointing=True,           # <-- Enable gradient checkpointing (huge memory savings!)\n",
    "#     eval_strategy=\"steps\",\n",
    "#     eval_steps=100,                        # <-- Slightly reduce eval frequency (less memory overhead)\n",
    "#     logging_steps=50,                      # <-- Reduce logging overhead\n",
    "#     save_steps=100,                        # <-- Fewer checkpoints (saves disk + memory)\n",
    "#     learning_rate=1e-4,                    # <-- Lower LR can help stability in small batch setups\n",
    "#     num_train_epochs=5,\n",
    "#     fp16=True,\n",
    "#     report_to=\"none\",\n",
    "#     load_best_model_at_end=True,\n",
    "#     greater_is_better=True,\n",
    "#     save_total_limit=2                     # <-- Fewer saved models (disk/memory efficient)\n",
    "# )\n",
    "from bitsandbytes.optim import AdamW8bit\n",
    "optimizer = AdamW8bit(model.parameters(), lr=3e-4, betas=(0.9, 0.95), eps=1e-8)\n",
    "from transformers import get_cosine_schedule_with_warmup\n",
    "batch_size = 4\n",
    "calculation_steps = 8\n",
    "num_epochs = 2\n",
    "total_training_steps = (len(train_data) // (batch_size * calculation_steps)) * num_epochs\n",
    "num_training_steps = total_training_steps  # calculate this\n",
    "num_warmup_steps = int(0.03 * num_training_steps)\n",
    "\n",
    "lr_scheduler = get_cosine_schedule_with_warmup(\n",
    "    optimizer=optimizer,\n",
    "    num_warmup_steps=num_warmup_steps,\n",
    "    num_training_steps=num_training_steps\n",
    ")\n",
    "\n",
    "\n",
    "\n",
    "training_args = TrainingArguments(\n",
    "        output_dir=\"./llama-3.2-3b-instruct-lora\",\n",
    "        per_device_train_batch_size=batch_size,       # Small due to memory limits\n",
    "        gradient_accumulation_steps=calculation_steps,      # 64 is high; 32 balances speed & memory\n",
    "        num_train_epochs=num_epochs,                  # Same as before\n",
    "        learning_rate=3e-4,                   # 6: Standard for LoRA tuning\n",
    "        lr_scheduler_type=\"cosine\",           # Good decay schedule\n",
    "        warmup_ratio=0.01,                    # Slightly lower to prevent slow start\n",
    "        weight_decay=0.005,                    # More balanced\n",
    "        fp16=True,                            # Mixed precision training\n",
    "        gradient_checkpointing=True,          # Reduces memory usage\n",
    "        max_grad_norm=1.0,                    # More stable than 0.8\n",
    "        save_total_limit=2,                    # Keep last 2 checkpoints\n",
    "        save_steps=100,                        # Save frequently for monitoring\n",
    "        logging_dir=\"./logs\",\n",
    "        logging_steps=1,                       # Logs every step\n",
    "        eval_steps=100,                        # <-- Slightly reduce eval frequency (less memory overhead)\n",
    "        eval_strategy=\"steps\",                  #not enough of data for \"epoch\"\n",
    "        #optimizer=(optimizer,lr_scheduler),             # Best optimizer for quantized models\n",
    "        optim=\"adamw_bnb_8bit\",\n",
    "        #optim_args={\"lr_scheduler\": lr_scheduler, \"optimizer\": optimizer},\n",
    "        report_to=\"none\",                       # No external logging\n",
    "        metric_for_best_model=\"rougeL\",\n",
    "        load_best_model_at_end=True,\n",
    "        greater_is_better=True\n",
    "\n",
    "\n",
    ")\n",
    "\n",
    "\n",
    "training = True\n",
    "if training:\n",
    "    model.config.use_cache = False\n",
    "\n",
    "\n",
    "\n",
    "# Trainer setup\n",
    "trainer = Trainer(\n",
    "    model=model,\n",
    "    args=training_args,\n",
    "    train_dataset=train_data,\n",
    "    eval_dataset=eval_data,\n",
    "    data_collator=DataCollatorForLanguageModeling(tokenizer=tokenizer, mlm=False),\n",
    "    compute_metrics=compute_metrics,\n",
    ")\n",
    "\n",
    "\n",
    "\n"
   ]
  },
  {
   "cell_type": "code",
   "execution_count": null,
   "metadata": {},
   "outputs": [
    {
     "data": {
      "text/html": [
       "\n",
       "    <div>\n",
       "      \n",
       "      <progress value='51' max='72' style='width:300px; height:20px; vertical-align: middle;'></progress>\n",
       "      [51/72 2:17:02 < 58:43, 0.01 it/s, Epoch 1.38/2]\n",
       "    </div>\n",
       "    <table border=\"1\" class=\"dataframe\">\n",
       "  <thead>\n",
       " <tr style=\"text-align: left;\">\n",
       "      <th>Step</th>\n",
       "      <th>Training Loss</th>\n",
       "      <th>Validation Loss</th>\n",
       "    </tr>\n",
       "  </thead>\n",
       "  <tbody>\n",
       "  </tbody>\n",
       "</table><p>"
      ],
      "text/plain": [
       "<IPython.core.display.HTML object>"
      ]
     },
     "metadata": {},
     "output_type": "display_data"
    }
   ],
   "source": [
    "import torch, gc\n",
    "\n",
    "torch.cuda.empty_cache()  # Clears GPU memory immediately\n",
    "gc.collect()              # Collects any lingering objects in Python memory\n",
    "\n",
    "\n",
    "\n",
    "trainer.train()\n",
    "\n",
    "# Save final model\n",
    "model.save_pretrained(\"final_adapter_with_eval\")\n",
    "tokenizer.save_pretrained(\"final_adapter_with_eval\")"
   ]
  },
  {
   "cell_type": "code",
   "execution_count": null,
   "metadata": {},
   "outputs": [],
   "source": []
  }
 ],
 "metadata": {
  "kernelspec": {
   "display_name": "cmlhw",
   "language": "python",
   "name": "python3"
  },
  "language_info": {
   "codemirror_mode": {
    "name": "ipython",
    "version": 3
   },
   "file_extension": ".py",
   "mimetype": "text/x-python",
   "name": "python",
   "nbconvert_exporter": "python",
   "pygments_lexer": "ipython3",
   "version": "3.11.10"
  }
 },
 "nbformat": 4,
 "nbformat_minor": 2
}
