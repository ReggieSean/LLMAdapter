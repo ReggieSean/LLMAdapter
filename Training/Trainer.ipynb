{
 "cells": [
  {
   "cell_type": "markdown",
   "metadata": {},
   "source": [
    "#### Convert input-and-label pairs to a single train and a eval jsonl"
   ]
  },
  {
   "cell_type": "code",
   "execution_count": 14,
   "metadata": {},
   "outputs": [],
   "source": [
    "import json\n",
    "import glob\n",
    "import os\n",
    "from sklearn.model_selection import train_test_split\n",
    "import random\n",
    "\n"
   ]
  },
  {
   "cell_type": "code",
   "execution_count": 15,
   "metadata": {},
   "outputs": [
    {
     "name": "stdout",
     "output_type": "stream",
     "text": [
      "Loaded 99 valid objects from ./InputNLabel/filtered_labels/filtered_formatted.json\n",
      "Using 98 objects from ./InputNLabel/filtered_labels/filtered_formatted.json\n",
      "Loaded 100 valid objects from ./InputNLabel/filtered_labels/filtered_randoms.json\n",
      "Using 99 objects from ./InputNLabel/filtered_labels/filtered_randoms.json\n",
      "Loaded 100 valid objects from ./InputNLabel/filtered_labels/filtered_receipts.json\n",
      "Using 99 objects from ./InputNLabel/filtered_labels/filtered_receipts.json\n",
      "Loaded 30 valid objects from ./InputNLabel/filtered_labels/filtered_reports.json\n",
      "Using 29 objects from ./InputNLabel/filtered_labels/filtered_reports.json\n",
      "Loaded 300 valid objects from ./InputNLabel/prompt_sensitive_translated/formatted_1.json\n",
      "Using 300 objects from ./InputNLabel/prompt_sensitive_translated/formatted_1.json\n",
      "Loaded 300 valid objects from ./InputNLabel/prompt_sensitive_translated/random_1.json\n",
      "Using 300 objects from ./InputNLabel/prompt_sensitive_translated/random_1.json\n",
      "Loaded 300 valid objects from ./InputNLabel/prompt_sensitive_translated/receipts_1.json\n",
      "Using 300 objects from ./InputNLabel/prompt_sensitive_translated/receipts_1.json\n",
      "Loaded 300 valid objects from ./InputNLabel/prompt_sensitive_translated/reports_1.json\n",
      "Using 300 objects from ./InputNLabel/prompt_sensitive_translated/reports_1.json\n",
      "Loaded 300 valid objects from ./InputNLabel/prompt_sensitive_translated/formatted_2.json\n",
      "Using 300 objects from ./InputNLabel/prompt_sensitive_translated/formatted_2.json\n",
      "Loaded 300 valid objects from ./InputNLabel/prompt_sensitive_translated/random_2.json\n",
      "Using 300 objects from ./InputNLabel/prompt_sensitive_translated/random_2.json\n",
      "Loaded 300 valid objects from ./InputNLabel/prompt_sensitive_translated/receipts_2.json\n",
      "Using 300 objects from ./InputNLabel/prompt_sensitive_translated/receipts_2.json\n",
      "Loaded 300 valid objects from ./InputNLabel/prompt_sensitive_translated/reports_2.json\n",
      "Using 300 objects from ./InputNLabel/prompt_sensitive_translated/reports_2.json\n",
      "Total combined dataset size: 2725\n",
      "Train data saved to: train_600_1_2.jsonl (2452 entries)\n",
      "Eval data saved to: eval_600_1_2.jsonl (273 entries)\n"
     ]
    }
   ],
   "source": [
    "filtered_pairs= \"./InputNLabel/filtred_labels\"\n",
    "file_and_limits = {\n",
    "    \"./InputNLabel/filtered_labels/filtered_formatted.json\": -1,\n",
    "    \"./InputNLabel/filtered_labels/filtered_randoms.json\": -1,\n",
    "    \"./InputNLabel/filtered_labels/filtered_receipts.json\": -1,\n",
    "    \"./InputNLabel/filtered_labels/filtered_reports.json\": -1,\n",
    "    \"./InputNLabel/prompt_sensitive_translated/formatted_1.json\": 300,\n",
    "    \"./InputNLabel/prompt_sensitive_translated/random_1.json\": 300,\n",
    "    \"./InputNLabel/prompt_sensitive_translated/receipts_1.json\": 300,\n",
    "    \"./InputNLabel/prompt_sensitive_translated/reports_1.json\": 300,\n",
    "    \"./InputNLabel/prompt_sensitive_translated/formatted_2.json\": 300,\n",
    "    \"./InputNLabel/prompt_sensitive_translated/random_2.json\": 300,\n",
    "    \"./InputNLabel/prompt_sensitive_translated/receipts_2.json\": 300,\n",
    "    \"./InputNLabel/prompt_sensitive_translated/reports_2.json\": 300,\n",
    "}\n",
    "\n",
    "\n",
    "train_output_file = \"train_600_1_2.jsonl\"\n",
    "eval_output_file = \"eval_600_1_2.jsonl\"\n",
    "def get_train_and_eval_data(file_and_limits, train_output_file, eval_output_file):\n",
    "    all_data = []\n",
    "\n",
    "\n",
    "    for file_path, limit in file_and_limits.items():\n",
    "        with open(file_path, \"r\", encoding=\"utf-8\") as file:\n",
    "            data = file.read().strip()\n",
    "\n",
    "            # Fix concatenated JSON objects\n",
    "            objs = data.split(\"}{\")\n",
    "\n",
    "            parsed_objs = []\n",
    "            for i, obj in enumerate(objs):\n",
    "                if not obj.startswith(\"{\"):\n",
    "                    obj = \"{\" + obj\n",
    "                if not obj.endswith(\"}\"):\n",
    "                    obj = obj + \"}\"\n",
    "                try:\n",
    "                    parsed = json.loads(obj)\n",
    "                    parsed_objs.append(parsed)\n",
    "                except json.JSONDecodeError as e:\n",
    "                    print(f\"Error decoding JSON in file {file_path}, object {i}: {e}\")\n",
    "\n",
    "            print(f\"Loaded {len(parsed_objs)} valid objects from {file_path}\")\n",
    "\n",
    "            # Shuffle and select specified limit\n",
    "            random.shuffle(parsed_objs)\n",
    "            limited_data = parsed_objs[:limit]\n",
    "\n",
    "            print(f\"Using {len(limited_data)} objects from {file_path}\")\n",
    "            all_data.extend(limited_data)\n",
    "\n",
    "    # Split combined data (90% train, 10% eval)\n",
    "\n",
    "    train_data, eval_data =  train_test_split(all_data, test_size=0.1, random_state=42)\n",
    "    if train_output_file is not None:\n",
    "        try:\n",
    "            print(f\"Total combined dataset size: {len(all_data)}\")\n",
    "            with open(train_output_file, \"w\", encoding=\"utf-8\") as f:\n",
    "                for item in train_data:\n",
    "                    json.dump(item, f, ensure_ascii=False)\n",
    "                    f.write(\"\\n\")\n",
    "        except Exception as e:\n",
    "            print(f\"Error saving train data: {e}\")\n",
    "    if eval_output_file is not None:\n",
    "    # Save eval data\n",
    "        try: \n",
    "            with open(eval_output_file, \"w\", encoding=\"utf-8\") as f: \n",
    "                for item in eval_data:\n",
    "                    json.dump(item, f, ensure_ascii=False)\n",
    "                    f.write(\"\\n\")\n",
    "        except Exception as e:\n",
    "            print(f\"Error saving eval data: {e}\") \n",
    "\n",
    "    print(f\"Train data saved to: {train_output_file} ({len(train_data)} entries)\")\n",
    "    print(f\"Eval data saved to: {eval_output_file} ({len(eval_data)} entries)\")\n",
    "    return train_data, eval_data\n",
    "\n",
    "\n",
    "train_data, eval_data = get_train_and_eval_data(file_and_limits, train_output_file, eval_output_file) \n",
    "\n"
   ]
  },
  {
   "cell_type": "markdown",
   "metadata": {},
   "source": [
    "### Training LoRA for immediate summariztion on receiving text"
   ]
  },
  {
   "cell_type": "code",
   "execution_count": 16,
   "metadata": {},
   "outputs": [],
   "source": [
    "import torch\n",
    "from transformers import (\n",
    "    AutoModelForCausalLM, \n",
    "    AutoTokenizer, \n",
    "    AutoConfig,\n",
    "    Trainer, \n",
    "    TrainingArguments, \n",
    "    DataCollatorForLanguageModeling\n",
    ")\n",
    "from datasets import load_dataset\n",
    "from transformers import BitsAndBytesConfig\n",
    "import numpy as np\n",
    "from peft import LoraConfig, get_peft_model, TaskType, prepare_model_for_kbit_training, PeftModel, PeftConfig\n",
    "import evaluate\n"
   ]
  },
  {
   "cell_type": "code",
   "execution_count": null,
   "metadata": {},
   "outputs": [],
   "source": []
  },
  {
   "cell_type": "code",
   "execution_count": 17,
   "metadata": {},
   "outputs": [],
   "source": [
    "from huggingface_hub import login\n",
    "#login()\n",
    "MODEL_NAME =\"meta-llama/Llama-3.2-3B-Instruct\"  \n"
   ]
  },
  {
   "cell_type": "code",
   "execution_count": 18,
   "metadata": {},
   "outputs": [],
   "source": [
    "\n",
    "# Load datasets\n",
    "\n",
    "tokenizer = AutoTokenizer.from_pretrained(MODEL_NAME, use_fast=True)\n",
    "tokenizer.pad_token = tokenizer.eos_token\n",
    "# Data preprocessing\n",
    "def preprocess( example):\n",
    "    prompt = f\"Summarize:\\n{example['input']}\\n\\nSummary:\\n\"\n",
    "    full_text = prompt + example[\"output\"]\n",
    "    tokenized = tokenizer(full_text, truncation=True, padding=\"max_length\", max_length=2048)\n",
    "    labels = tokenized[\"input_ids\"].copy()\n",
    "    \n",
    "    # Mask input prompt tokens in loss calculation\n",
    "    prompt_token_len = len(tokenizer(prompt, truncation=True)[\"input_ids\"])\n",
    "    labels[:prompt_token_len] = [-100] * prompt_token_len\n",
    "    tokenized[\"labels\"] = labels\n",
    "    \n",
    "    return tokenized\n",
    "\n",
    "\n"
   ]
  },
  {
   "cell_type": "code",
   "execution_count": 19,
   "metadata": {},
   "outputs": [],
   "source": [
    "\n",
    "#compute different metrics\n",
    "rouge = evaluate.load('rouge')\n",
    "bleu = evaluate.load('bleu')\n",
    "def compute_metrics( eval_pred):\n",
    "    preds, labels = eval_pred\n",
    "    preds = np.argmax(preds, axis=-1)\n",
    "    \n",
    "    decoded_preds = tokenizer.batch_decode(preds, skip_special_tokens=True)\n",
    "    decoded_labels = tokenizer.batch_decode(labels, skip_special_tokens=True)\n",
    "\n",
    "    decoded_preds = [pred.split(\"Summary:\\n\")[-1].strip() for pred in decoded_preds]\n",
    "    decoded_labels = [label.split(\"Summary:\\n\")[-1].strip() for label in decoded_labels]\n",
    "\n",
    "    rouge_result = rouge.compute(predictions=decoded_preds, references=decoded_labels)\n",
    "    bleu_result = bleu.compute(predictions=[p.split() for p in decoded_preds],\n",
    "                               references=[[l.split()] for l in decoded_labels])\n",
    "\n",
    "    return {\n",
    "        \"rouge1\": rouge_result[\"rouge1\"],\n",
    "        \"rouge2\": rouge_result[\"rouge2\"],\n",
    "        \"rougeL\": rouge_result[\"rougeL\"],\n",
    "        \"bleu\": bleu_result[\"bleu\"],\n",
    "    }\n"
   ]
  },
  {
   "cell_type": "code",
   "execution_count": 20,
   "metadata": {},
   "outputs": [
    {
     "data": {
      "application/vnd.jupyter.widget-view+json": {
       "model_id": "f8d8e6d2486d49a49fea6ecc706fb078",
       "version_major": 2,
       "version_minor": 0
      },
      "text/plain": [
       "Generating train split: 0 examples [00:00, ? examples/s]"
      ]
     },
     "metadata": {},
     "output_type": "display_data"
    },
    {
     "data": {
      "application/vnd.jupyter.widget-view+json": {
       "model_id": "e3f8f6e52cc04b50b6ed4e1b6055630e",
       "version_major": 2,
       "version_minor": 0
      },
      "text/plain": [
       "Generating eval split: 0 examples [00:00, ? examples/s]"
      ]
     },
     "metadata": {},
     "output_type": "display_data"
    },
    {
     "data": {
      "application/vnd.jupyter.widget-view+json": {
       "model_id": "345389532f8748dcaa9796bb56435eec",
       "version_major": 2,
       "version_minor": 0
      },
      "text/plain": [
       "Map:   0%|          | 0/2452 [00:00<?, ? examples/s]"
      ]
     },
     "metadata": {},
     "output_type": "display_data"
    },
    {
     "data": {
      "application/vnd.jupyter.widget-view+json": {
       "model_id": "584fd12772c24315bfea523a8653d197",
       "version_major": 2,
       "version_minor": 0
      },
      "text/plain": [
       "Map:   0%|          | 0/273 [00:00<?, ? examples/s]"
      ]
     },
     "metadata": {},
     "output_type": "display_data"
    }
   ],
   "source": [
    "\n",
    "def format_supervised_data(train_file, eval_file ):\n",
    "    dataset = load_dataset(\"json\", data_files={\"train\": train_file, \"eval\": eval_file})\n",
    "\n",
    "    train_data = dataset[\"train\"].map(preprocess)\n",
    "    eval_data = dataset[\"eval\"].map(preprocess)\n",
    "\n",
    "    train_data.set_format(\"torch\", columns=[\"input_ids\", \"attention_mask\", \"labels\"])\n",
    "    eval_data.set_format(\"torch\", columns=[\"input_ids\", \"attention_mask\", \"labels\"])\n",
    "    return train_data, eval_data\n",
    "\n",
    "train_data, eval_data = format_supervised_data( \"train_600_1_2.jsonl\", \"eval_600_1_2.jsonl\")\n"
   ]
  },
  {
   "cell_type": "code",
   "execution_count": 30,
   "metadata": {},
   "outputs": [],
   "source": [
    "from functools import partial\n",
    "def set_up_lora(MODEL_NAME, lora_config_path=\"\", training = False):\n",
    "    bnb_config = BitsAndBytesConfig(\n",
    "        load_in_4bit=True,\n",
    "        bnb_4bit_use_double_quant=True,\n",
    "        bnb_4bit_quant_type=\"nf4\",\n",
    "        bnb_4bit_compute_dtype=torch.float16\n",
    "    )\n",
    "    config = AutoConfig.from_pretrained(MODEL_NAME)\n",
    "    # manually set rope_scaling to supported structure:\n",
    "    config.rope_scaling = {\"type\": \"dynamic\", \"factor\": 2.0}\n",
    "    config.use_cache = not training\n",
    "\n",
    "\n",
    "    model = AutoModelForCausalLM.from_pretrained(\n",
    "        MODEL_NAME,\n",
    "        quantization_config=bnb_config,\n",
    "        config=config,\n",
    "        device_map=\"auto\"\n",
    "    )\n",
    "    #model.get_input_embeddings().weight.requires_grad = True\n",
    "    if training:\n",
    "        model.gradient_checkpointing_enable()\n",
    "        model.enable_input_require_grads()\n",
    "    # LoRA configuration\n",
    "    if lora_config_path == \"\":\n",
    "        lora_config = LoraConfig( r=16,\n",
    "            lora_alpha=32,\n",
    "            target_modules=[\"q_proj\", \"k_proj\", \"v_proj\", \"o_proj\"],\n",
    "            lora_dropout=0.05,\n",
    "            bias=\"none\",\n",
    "            task_type=TaskType.CAUSAL_LM\n",
    "        )\n",
    "        print(type(config))\n",
    "        config.inference_mode = not training\n",
    "        model = get_peft_model(model, lora_config)\n",
    "    else:\n",
    "        config = LoraConfig.from_pretrained(lora_config_path)\n",
    "        config.inference_mode =  not training\n",
    "        print(type(config))\n",
    "        print(type(model))\n",
    "        model = get_peft_model(model, config)\n",
    "        \n",
    "\n",
    "    return model\n",
    "\n",
    "\n",
    "\n",
    "\n",
    "\n"
   ]
  },
  {
   "cell_type": "code",
   "execution_count": 22,
   "metadata": {},
   "outputs": [
    {
     "data": {
      "application/vnd.jupyter.widget-view+json": {
       "model_id": "63e2afd2d5364d98be88d2941ffdc89f",
       "version_major": 2,
       "version_minor": 0
      },
      "text/plain": [
       "Loading checkpoint shards:   0%|          | 0/2 [00:00<?, ?it/s]"
      ]
     },
     "metadata": {},
     "output_type": "display_data"
    },
    {
     "name": "stderr",
     "output_type": "stream",
     "text": [
      "No label_names provided for model class `PeftModelForCausalLM`. Since `PeftModel` hides base models input arguments, if label_names is not given, label_names can't be set automatically within `Trainer`. Note that empty label_names list will be used instead.\n"
     ]
    }
   ],
   "source": [
    "\n",
    "# from bitsandbytes.optim import AdamW8bit\n",
    "# optimizer = AdamW8bit(model.parameters(), lr=3e-4, betas=(0.9, 0.95), eps=1e-8)\n",
    "# from transformers import get_cosine_schedule_with_warmup\n",
    "batch_size = 4\n",
    "calculation_steps = 8\n",
    "num_epochs = 2\n",
    "# total_training_steps = (len(train_data) // (batch_size * calculation_steps)) * num_epochs\n",
    "# num_training_steps = total_training_steps  # calculate this\n",
    "# num_warmup_steps = int(0.03 * num_training_steps)\n",
    "\n",
    "# lr_scheduler = get_cosine_schedule_with_warmup(\n",
    "#     optimizer=optimizer,\n",
    "#     num_warmup_steps=num_warmup_steps,\n",
    "#     num_training_steps=num_training_steps\n",
    "# )\n",
    "\n",
    "def set_up_training_args(batch_size, calculation_steps, num_epochs):\n",
    "\n",
    "    training_args = TrainingArguments(\n",
    "            output_dir=\"./llama-3.2-3b-instruct-lora\",\n",
    "            per_device_train_batch_size=batch_size,       # Small due to memory limits\n",
    "            gradient_accumulation_steps=calculation_steps,      # 64 is high; 32 balances speed & memory\n",
    "            num_train_epochs=num_epochs,                  # Same as before\n",
    "            learning_rate=3e-4,                   # 6: Standard for LoRA tuning\n",
    "            lr_scheduler_type=\"cosine\",           # Good decay schedule\n",
    "            warmup_ratio=0.01,                    # Slightly lower to prevent slow start\n",
    "            weight_decay=0.005,                    # More balanced\n",
    "            fp16=True,                            # Mixed precision training\n",
    "            gradient_checkpointing=True,          # Reduces memory usage\n",
    "            max_grad_norm=1.0,                    # More stable than 0.8\n",
    "            save_total_limit=2,                    # Keep last 2 checkpoints\n",
    "            save_steps=100,                        # Save frequently for monitoring\n",
    "            logging_dir=\"./logs\",\n",
    "            logging_steps=1,                       # Logs every step\n",
    "            eval_steps=100,                        # <-- Slightly reduce eval frequency (less memory overhead)\n",
    "            eval_strategy=\"steps\",                  #not enough of data for \"epoch\"\n",
    "            #optimizer=(optimizer,lr_scheduler),             # Best optimizer for quantized models\n",
    "            optim=\"adamw_bnb_8bit\",\n",
    "            #optim_args={\"lr_scheduler\": lr_scheduler, \"optimizer\": optimizer},\n",
    "            report_to=\"none\",                       # No external logging\n",
    "            metric_for_best_model=\"rougeL\",\n",
    "            load_best_model_at_end=True,\n",
    "            greater_is_better=True\n",
    "    )\n",
    "    return training_args\n",
    "\n",
    "\n",
    "model = set_up_lora(MODEL_NAME)\n",
    "\n",
    "training_args = set_up_training_args(batch_size, calculation_steps, num_epochs)\n",
    "\n",
    "tokenizer = AutoTokenizer.from_pretrained(MODEL_NAME, use_fast=True)\n",
    "tokenizer.pad_token = tokenizer.eos_token\n",
    "# Trainer setup\n",
    "trainer = Trainer(\n",
    "    model=model,\n",
    "    args=training_args,\n",
    "    train_dataset=train_data,\n",
    "    eval_dataset=eval_data,\n",
    "    data_collator=DataCollatorForLanguageModeling(tokenizer=tokenizer, mlm=False),\n",
    "    compute_metrics=compute_metrics,\n",
    ")\n",
    "\n",
    "\n",
    "\n"
   ]
  },
  {
   "cell_type": "code",
   "execution_count": 23,
   "metadata": {},
   "outputs": [],
   "source": [
    "# import torch, gc\n",
    "\n",
    "# torch.cuda.empty_cache()  # Clears GPU memory immediately\n",
    "# gc.collect()              # Collects any lingering objects in Python memory\n",
    "\n",
    "\n",
    "\n",
    "# #trainer.train()\n",
    "\n",
    "# # Save final model\n",
    "# model.save_pretrained(\"final_adapter_with_eval\")\n",
    "# tokenizer.save_pretrained(\"final_adapter_with_eval\")"
   ]
  },
  {
   "cell_type": "code",
   "execution_count": 24,
   "metadata": {},
   "outputs": [],
   "source": [
    "\n",
    "\n",
    "# import torch, gc\n",
    "\n",
    "\n",
    "\n",
    "# torch.cuda.empty_cache()  # Clears GPU memory immediately\n",
    "# gc.collect()              # Collects any lingering objects in Python memory\n",
    "\n",
    "# # trainer.evaluate()"
   ]
  },
  {
   "cell_type": "code",
   "execution_count": 32,
   "metadata": {},
   "outputs": [
    {
     "name": "stdout",
     "output_type": "stream",
     "text": [
      "Loaded 99 valid objects from ./InputNLabel/filtered_labels/filtered_formatted.json\n",
      "Using 98 objects from ./InputNLabel/filtered_labels/filtered_formatted.json\n",
      "Loaded 100 valid objects from ./InputNLabel/filtered_labels/filtered_randoms.json\n",
      "Using 99 objects from ./InputNLabel/filtered_labels/filtered_randoms.json\n",
      "Loaded 100 valid objects from ./InputNLabel/filtered_labels/filtered_receipts.json\n",
      "Using 99 objects from ./InputNLabel/filtered_labels/filtered_receipts.json\n",
      "Loaded 30 valid objects from ./InputNLabel/filtered_labels/filtered_reports.json\n",
      "Using 29 objects from ./InputNLabel/filtered_labels/filtered_reports.json\n",
      "Loaded 300 valid objects from ./InputNLabel/prompt_sensitive_translated/formatted_1.json\n",
      "Using 300 objects from ./InputNLabel/prompt_sensitive_translated/formatted_1.json\n",
      "Loaded 300 valid objects from ./InputNLabel/prompt_sensitive_translated/random_1.json\n",
      "Using 300 objects from ./InputNLabel/prompt_sensitive_translated/random_1.json\n",
      "Loaded 300 valid objects from ./InputNLabel/prompt_sensitive_translated/receipts_1.json\n",
      "Using 300 objects from ./InputNLabel/prompt_sensitive_translated/receipts_1.json\n",
      "Loaded 300 valid objects from ./InputNLabel/prompt_sensitive_translated/reports_1.json\n",
      "Using 300 objects from ./InputNLabel/prompt_sensitive_translated/reports_1.json\n",
      "Total combined dataset size: 1525\n",
      "Train data saved to: train_1.jsonl (1372 entries)\n",
      "Eval data saved to: eval_1.jsonl (153 entries)\n"
     ]
    },
    {
     "data": {
      "application/vnd.jupyter.widget-view+json": {
       "model_id": "f2d88af244ec48fbb9a8839b9b12ec0a",
       "version_major": 2,
       "version_minor": 0
      },
      "text/plain": [
       "Generating train split: 0 examples [00:00, ? examples/s]"
      ]
     },
     "metadata": {},
     "output_type": "display_data"
    },
    {
     "data": {
      "application/vnd.jupyter.widget-view+json": {
       "model_id": "87921fe60d7a49da91b85388f01198a6",
       "version_major": 2,
       "version_minor": 0
      },
      "text/plain": [
       "Generating eval split: 0 examples [00:00, ? examples/s]"
      ]
     },
     "metadata": {},
     "output_type": "display_data"
    },
    {
     "data": {
      "application/vnd.jupyter.widget-view+json": {
       "model_id": "4aa7628fefbe4f649e7493f08f1454d0",
       "version_major": 2,
       "version_minor": 0
      },
      "text/plain": [
       "Map:   0%|          | 0/1372 [00:00<?, ? examples/s]"
      ]
     },
     "metadata": {},
     "output_type": "display_data"
    },
    {
     "data": {
      "application/vnd.jupyter.widget-view+json": {
       "model_id": "215f32d2a5b74a7293f085f7884a8a72",
       "version_major": 2,
       "version_minor": 0
      },
      "text/plain": [
       "Map:   0%|          | 0/153 [00:00<?, ? examples/s]"
      ]
     },
     "metadata": {},
     "output_type": "display_data"
    },
    {
     "data": {
      "application/vnd.jupyter.widget-view+json": {
       "model_id": "c7a6f06365cb44f5b725450deaa4b116",
       "version_major": 2,
       "version_minor": 0
      },
      "text/plain": [
       "Loading checkpoint shards:   0%|          | 0/2 [00:00<?, ?it/s]"
      ]
     },
     "metadata": {},
     "output_type": "display_data"
    },
    {
     "name": "stdout",
     "output_type": "stream",
     "text": [
      "<class 'transformers.models.llama.configuration_llama.LlamaConfig'>\n"
     ]
    },
    {
     "name": "stderr",
     "output_type": "stream",
     "text": [
      "No label_names provided for model class `PeftModelForCausalLM`. Since `PeftModel` hides base models input arguments, if label_names is not given, label_names can't be set automatically within `Trainer`. Note that empty label_names list will be used instead.\n"
     ]
    },
    {
     "data": {
      "text/html": [
       "\n",
       "    <div>\n",
       "      \n",
       "      <progress value='84' max='84' style='width:300px; height:20px; vertical-align: middle;'></progress>\n",
       "      [84/84 7:04:18, Epoch 1/2]\n",
       "    </div>\n",
       "    <table border=\"1\" class=\"dataframe\">\n",
       "  <thead>\n",
       " <tr style=\"text-align: left;\">\n",
       "      <th>Step</th>\n",
       "      <th>Training Loss</th>\n",
       "      <th>Validation Loss</th>\n",
       "    </tr>\n",
       "  </thead>\n",
       "  <tbody>\n",
       "  </tbody>\n",
       "</table><p>"
      ],
      "text/plain": [
       "<IPython.core.display.HTML object>"
      ]
     },
     "metadata": {},
     "output_type": "display_data"
    },
    {
     "data": {
      "text/plain": [
       "('final_adapter_with_eval_1/tokenizer_config.json',\n",
       " 'final_adapter_with_eval_1/special_tokens_map.json',\n",
       " 'final_adapter_with_eval_1/tokenizer.json')"
      ]
     },
     "execution_count": 32,
     "metadata": {},
     "output_type": "execute_result"
    }
   ],
   "source": [
    "from transformers import AutoTokenizer, AutoModelForCausalLM\n",
    "from peft import PeftModel, PeftConfig\n",
    "import torch\n",
    "file_and_limits = {\n",
    "    \"./InputNLabel/filtered_labels/filtered_formatted.json\": -1,\n",
    "    \"./InputNLabel/filtered_labels/filtered_randoms.json\": -1,\n",
    "    \"./InputNLabel/filtered_labels/filtered_receipts.json\": -1,\n",
    "    \"./InputNLabel/filtered_labels/filtered_reports.json\": -1,\n",
    "    \"./InputNLabel/prompt_sensitive_translated/formatted_1.json\": 300,\n",
    "    \"./InputNLabel/prompt_sensitive_translated/random_1.json\": 300,\n",
    "    \"./InputNLabel/prompt_sensitive_translated/receipts_1.json\": 300,\n",
    "    \"./InputNLabel/prompt_sensitive_translated/reports_1.json\": 300,\n",
    "}\n",
    "train_data, eval_data = get_train_and_eval_data(file_and_limits, \"train_1.jsonl\", \"eval_1.jsonl\")\n",
    "train_data, eval_data = format_supervised_data( \"train_1.jsonl\", \"eval_1.jsonl\")\n",
    "\n",
    "\n",
    "\n",
    "# Load tokenizer\n",
    "model_name = \"meta-llama/Llama-3.2-3B-Instruct\"  # or the base model you trained on\n",
    "tokenizer = AutoTokenizer.from_pretrained(model_name)\n",
    "tokenizer.pad_token = tokenizer.eos_token\n",
    "\n",
    "# Load your LoRA adapter\n",
    "#previously trained adapter\n",
    "adapter_path = \"./../Training/final_adapter_with_eval_0\"  # or wherever your adapter_model.safetensors is\n",
    "adapter_path = \"\"\n",
    "model = set_up_lora(model_name, lora_config_path=adapter_path, training = True)\n",
    "training_args = set_up_training_args(batch_size, calculation_steps, num_epochs)\n",
    "\n",
    "tokenizer = AutoTokenizer.from_pretrained(model_name, use_fast=True)\n",
    "tokenizer.pad_token = tokenizer.eos_token\n",
    "\n",
    "trainer = Trainer(\n",
    "    model=model,\n",
    "    args=training_args,\n",
    "    train_dataset=train_data,\n",
    "    eval_dataset=eval_data,\n",
    "    data_collator=DataCollatorForLanguageModeling(tokenizer=tokenizer, mlm=False),\n",
    "    compute_metrics=compute_metrics,\n",
    ")\n",
    "trainer.train()\n",
    "model.save_pretrained(\"final_adapter_with_eval_1\")\n",
    "tokenizer.save_pretrained(\"final_adapter_with_eval_1\")\n"
   ]
  },
  {
   "cell_type": "code",
   "execution_count": null,
   "metadata": {},
   "outputs": [],
   "source": []
  }
 ],
 "metadata": {
  "kernelspec": {
   "display_name": "cmlhw",
   "language": "python",
   "name": "python3"
  },
  "language_info": {
   "codemirror_mode": {
    "name": "ipython",
    "version": 3
   },
   "file_extension": ".py",
   "mimetype": "text/x-python",
   "name": "python",
   "nbconvert_exporter": "python",
   "pygments_lexer": "ipython3",
   "version": "3.11.10"
  }
 },
 "nbformat": 4,
 "nbformat_minor": 2
}
