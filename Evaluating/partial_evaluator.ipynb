{
 "cells": [
  {
   "cell_type": "markdown",
   "metadata": {},
   "source": [
    "#### Convert input-and-label pairs to a single train and a eval jsonl"
   ]
  },
  {
   "cell_type": "code",
   "execution_count": 3,
   "metadata": {},
   "outputs": [],
   "source": [
    "import json\n",
    "import glob\n",
    "import os\n",
    "from sklearn.model_selection import train_test_split\n",
    "import random\n",
    "\n"
   ]
  },
  {
   "cell_type": "code",
   "execution_count": 18,
   "metadata": {},
   "outputs": [
    {
     "name": "stdout",
     "output_type": "stream",
     "text": [
      "Loaded 99 valid objects from ./../Training/InputNLabel/filtered_labels/filtered_formatted.json\n",
      "Using 98 objects from ./../Training/InputNLabel/filtered_labels/filtered_formatted.json\n",
      "Loaded 100 valid objects from ./../Training/InputNLabel/filtered_labels/filtered_randoms.json\n",
      "Using 99 objects from ./../Training/InputNLabel/filtered_labels/filtered_randoms.json\n",
      "Loaded 100 valid objects from ./../Training/InputNLabel/filtered_labels/filtered_receipts.json\n",
      "Using 99 objects from ./../Training/InputNLabel/filtered_labels/filtered_receipts.json\n",
      "Loaded 30 valid objects from ./../Training/InputNLabel/filtered_labels/filtered_reports.json\n",
      "Using 29 objects from ./../Training/InputNLabel/filtered_labels/filtered_reports.json\n",
      "Loaded 300 valid objects from ./../Training/InputNLabel/prompt_sensitive_translated/formatted_1.json\n",
      "Using 300 objects from ./../Training/InputNLabel/prompt_sensitive_translated/formatted_1.json\n",
      "Loaded 300 valid objects from ./../Training/InputNLabel/prompt_sensitive_translated/random_1.json\n",
      "Using 300 objects from ./../Training/InputNLabel/prompt_sensitive_translated/random_1.json\n",
      "Loaded 300 valid objects from ./../Training/InputNLabel/prompt_sensitive_translated/receipts_1.json\n",
      "Using 300 objects from ./../Training/InputNLabel/prompt_sensitive_translated/receipts_1.json\n",
      "Loaded 300 valid objects from ./../Training/InputNLabel/prompt_sensitive_translated/reports_1.json\n",
      "Using 300 objects from ./../Training/InputNLabel/prompt_sensitive_translated/reports_1.json\n",
      "Loaded 300 valid objects from ./../Training/InputNLabel/prompt_sensitive_translated/formatted_2.json\n",
      "Using 300 objects from ./../Training/InputNLabel/prompt_sensitive_translated/formatted_2.json\n",
      "Loaded 300 valid objects from ./../Training/InputNLabel/prompt_sensitive_translated/random_2.json\n",
      "Using 300 objects from ./../Training/InputNLabel/prompt_sensitive_translated/random_2.json\n",
      "Loaded 300 valid objects from ./../Training/InputNLabel/prompt_sensitive_translated/receipts_2.json\n",
      "Using 300 objects from ./../Training/InputNLabel/prompt_sensitive_translated/receipts_2.json\n",
      "Loaded 300 valid objects from ./../Training/InputNLabel/prompt_sensitive_translated/reports_2.json\n",
      "Using 300 objects from ./../Training/InputNLabel/prompt_sensitive_translated/reports_2.json\n",
      "Total combined dataset size: 2725\n",
      "Train data saved to: train_600_1_2.jsonl (2452 entries)\n",
      "Eval data saved to: eval_600_1_2.jsonl (273 entries)\n"
     ]
    }
   ],
   "source": [
    "filtered_pairs= \"./InputNLabel/filtred_labels\"\n",
    "file_and_limits = {\n",
    "    \"./../Training/InputNLabel/filtered_labels/filtered_formatted.json\": -1,\n",
    "    \"./../Training/InputNLabel/filtered_labels/filtered_randoms.json\": -1,\n",
    "    \"./../Training/InputNLabel/filtered_labels/filtered_receipts.json\": -1,\n",
    "    \"./../Training/InputNLabel/filtered_labels/filtered_reports.json\": -1,\n",
    "    \"./../Training/InputNLabel/prompt_sensitive_translated/formatted_1.json\": 300,\n",
    "    \"./../Training/InputNLabel/prompt_sensitive_translated/random_1.json\": 300,\n",
    "    \"./../Training/InputNLabel/prompt_sensitive_translated/receipts_1.json\": 300,\n",
    "    \"./../Training/InputNLabel/prompt_sensitive_translated/reports_1.json\": 300,\n",
    "    \"./../Training/InputNLabel/prompt_sensitive_translated/formatted_2.json\": 300,\n",
    "    \"./../Training/InputNLabel/prompt_sensitive_translated/random_2.json\": 300,\n",
    "    \"./../Training/InputNLabel/prompt_sensitive_translated/receipts_2.json\": 300,\n",
    "    \"./../Training/InputNLabel/prompt_sensitive_translated/reports_2.json\": 300,\n",
    "}\n",
    "\n",
    "\n",
    "train_output_file = \"train_600_1_2.jsonl\"\n",
    "eval_output_file = \"eval_600_1_2.jsonl\"\n",
    "def get_train_and_eval_data(file_and_limits, train_output_file, eval_output_file):\n",
    "    all_data = []\n",
    "\n",
    "\n",
    "    for file_path, limit in file_and_limits.items():\n",
    "        with open(file_path, \"r\", encoding=\"utf-8\") as file:\n",
    "            data = file.read().strip()\n",
    "\n",
    "            # Fix concatenated JSON objects\n",
    "            objs = data.split(\"}{\")\n",
    "\n",
    "            parsed_objs = []\n",
    "            for i, obj in enumerate(objs):\n",
    "                if not obj.startswith(\"{\"):\n",
    "                    obj = \"{\" + obj\n",
    "                if not obj.endswith(\"}\"):\n",
    "                    obj = obj + \"}\"\n",
    "                try:\n",
    "                    parsed = json.loads(obj)\n",
    "                    parsed_objs.append(parsed)\n",
    "                except json.JSONDecodeError as e:\n",
    "                    print(f\"Error decoding JSON in file {file_path}, object {i}: {e}\")\n",
    "\n",
    "            print(f\"Loaded {len(parsed_objs)} valid objects from {file_path}\")\n",
    "\n",
    "            # Shuffle and select specified limit\n",
    "            random.shuffle(parsed_objs)\n",
    "            limited_data = parsed_objs[:limit]\n",
    "\n",
    "            print(f\"Using {len(limited_data)} objects from {file_path}\")\n",
    "            all_data.extend(limited_data)\n",
    "\n",
    "    # Split combined data (90% train, 10% eval)\n",
    "\n",
    "    train_data, eval_data =  train_test_split(all_data, test_size=0.1, random_state=42)\n",
    "    if train_output_file is not None:\n",
    "        try:\n",
    "            print(f\"Total combined dataset size: {len(all_data)}\")\n",
    "            with open(train_output_file, \"w\", encoding=\"utf-8\") as f:\n",
    "                for item in train_data:\n",
    "                    json.dump(item, f, ensure_ascii=False)\n",
    "                    f.write(\"\\n\")\n",
    "        except Exception as e:\n",
    "            print(f\"Error saving train data: {e}\")\n",
    "    if eval_output_file is not None:\n",
    "    # Save eval data\n",
    "        try: \n",
    "            with open(eval_output_file, \"w\", encoding=\"utf-8\") as f: \n",
    "                for item in eval_data:\n",
    "                    json.dump(item, f, ensure_ascii=False)\n",
    "                    f.write(\"\\n\")\n",
    "        except Exception as e:\n",
    "            print(f\"Error saving eval data: {e}\") \n",
    "\n",
    "    print(f\"Train data saved to: {train_output_file} ({len(train_data)} entries)\")\n",
    "    print(f\"Eval data saved to: {eval_output_file} ({len(eval_data)} entries)\")\n",
    "    return train_data, eval_data\n",
    "\n",
    "\n",
    "train_data, eval_data = get_train_and_eval_data(file_and_limits, train_output_file , eval_output_file) \n",
    "\n"
   ]
  },
  {
   "cell_type": "markdown",
   "metadata": {},
   "source": [
    "### Training LoRA for immediate summariztion on receiving text"
   ]
  },
  {
   "cell_type": "code",
   "execution_count": null,
   "metadata": {},
   "outputs": [],
   "source": [
    "import torch\n",
    "# from transformers import (\n",
    "#     AutoModelForCausalLM, \n",
    "#     AutoTokenizer, \n",
    "#     AutoConfig,\n",
    "#     # Trainer, \n",
    "#     TrainingArguments, \n",
    "#     #DataCollatorForLanguageModeling\n",
    "# )\n",
    "# from datasets import load_dataset\n",
    "# from transformers import BitsAndBytesConfig\n",
    "from transformers import  AutoModelForCausalLM, AutoTokenizer, AutoConfig, TrainingArguments\n",
    "from transformers import Trainer, DataCollatorForLanguageModeling, BitsAndBytesConfig\n",
    "#import transformers\n",
    "import numpy as np\n",
    "from peft import LoraConfig, get_peft_model, TaskType, prepare_model_for_kbit_training, PeftModel, PeftConfig\n",
    "import evaluate\n"
   ]
  },
  {
   "cell_type": "code",
   "execution_count": null,
   "metadata": {},
   "outputs": [],
   "source": []
  },
  {
   "cell_type": "code",
   "execution_count": 12,
   "metadata": {},
   "outputs": [],
   "source": [
    "from huggingface_hub import login, interpreter_login\n",
    "#login()\n",
    "#interpreter_login()\n",
    "MODEL_NAME =\"meta-llama/Llama-3.2-3B-Instruct\"  \n"
   ]
  },
  {
   "cell_type": "code",
   "execution_count": 13,
   "metadata": {},
   "outputs": [
    {
     "data": {
      "application/vnd.jupyter.widget-view+json": {
       "model_id": "4a914571dc0745fd9a77405b2cb23c16",
       "version_major": 2,
       "version_minor": 0
      },
      "text/plain": [
       "tokenizer_config.json:   0%|          | 0.00/54.5k [00:00<?, ?B/s]"
      ]
     },
     "metadata": {},
     "output_type": "display_data"
    },
    {
     "data": {
      "application/vnd.jupyter.widget-view+json": {
       "model_id": "d66a28bccdc5459c9dc5386da48a74b1",
       "version_major": 2,
       "version_minor": 0
      },
      "text/plain": [
       "tokenizer.json:   0%|          | 0.00/9.09M [00:00<?, ?B/s]"
      ]
     },
     "metadata": {},
     "output_type": "display_data"
    },
    {
     "data": {
      "application/vnd.jupyter.widget-view+json": {
       "model_id": "b90fec758eb441d898f8196fd9da0c84",
       "version_major": 2,
       "version_minor": 0
      },
      "text/plain": [
       "special_tokens_map.json:   0%|          | 0.00/296 [00:00<?, ?B/s]"
      ]
     },
     "metadata": {},
     "output_type": "display_data"
    }
   ],
   "source": [
    "\n",
    "# Load datasets\n",
    "\n",
    "tokenizer = AutoTokenizer.from_pretrained(MODEL_NAME, use_fast=True)\n",
    "tokenizer.pad_token = tokenizer.eos_token\n",
    "# Data preprocessing\n",
    "def preprocess( example):\n",
    "    prompt = f\"Summarize:\\n{example['input']}\\n\\nSummary:\\n\"\n",
    "    full_text = prompt + example[\"output\"]\n",
    "    tokenized = tokenizer(full_text, truncation=True, padding=\"max_length\", max_length=2048)\n",
    "    labels = tokenized[\"input_ids\"].copy()\n",
    "    \n",
    "    # Mask input prompt tokens in loss calculation\n",
    "    prompt_token_len = len(tokenizer(prompt, truncation=True)[\"input_ids\"])\n",
    "    labels[:prompt_token_len] = [-100] * prompt_token_len\n",
    "    tokenized[\"labels\"] = labels\n",
    "    \n",
    "    return tokenized\n",
    "\n",
    "\n"
   ]
  },
  {
   "cell_type": "code",
   "execution_count": 15,
   "metadata": {},
   "outputs": [
    {
     "data": {
      "application/vnd.jupyter.widget-view+json": {
       "model_id": "8a06ccee1e544ac6922aa9121e703ec2",
       "version_major": 2,
       "version_minor": 0
      },
      "text/plain": [
       "Downloading builder script:   0%|          | 0.00/5.94k [00:00<?, ?B/s]"
      ]
     },
     "metadata": {},
     "output_type": "display_data"
    },
    {
     "data": {
      "application/vnd.jupyter.widget-view+json": {
       "model_id": "c8be2e42c60948e3ab39bb3348ab3b1c",
       "version_major": 2,
       "version_minor": 0
      },
      "text/plain": [
       "Downloading extra modules:   0%|          | 0.00/1.55k [00:00<?, ?B/s]"
      ]
     },
     "metadata": {},
     "output_type": "display_data"
    },
    {
     "data": {
      "application/vnd.jupyter.widget-view+json": {
       "model_id": "0d59b8090488458e9266473a1e4d27b8",
       "version_major": 2,
       "version_minor": 0
      },
      "text/plain": [
       "Downloading extra modules:   0%|          | 0.00/3.34k [00:00<?, ?B/s]"
      ]
     },
     "metadata": {},
     "output_type": "display_data"
    }
   ],
   "source": [
    "\n",
    "#compute different metrics\n",
    "rouge = evaluate.load('rouge')\n",
    "bleu = evaluate.load('bleu')\n",
    "def compute_metrics( eval_pred):\n",
    "    preds, labels = eval_pred\n",
    "    preds = np.argmax(preds, axis=-1)\n",
    "    \n",
    "    decoded_preds = tokenizer.batch_decode(preds, skip_special_tokens=True)\n",
    "    decoded_labels = tokenizer.batch_decode(labels, skip_special_tokens=True)\n",
    "\n",
    "    decoded_preds = [pred.split(\"Summary:\\n\")[-1].strip() for pred in decoded_preds]\n",
    "    decoded_labels = [label.split(\"Summary:\\n\")[-1].strip() for label in decoded_labels]\n",
    "\n",
    "    rouge_result = rouge.compute(predictions=decoded_preds, references=decoded_labels)\n",
    "    bleu_result = bleu.compute(predictions=[p.split() for p in decoded_preds],\n",
    "                               references=[[l.split()] for l in decoded_labels])\n",
    "\n",
    "    return {\n",
    "        \"rouge1\": rouge_result[\"rouge1\"],\n",
    "        \"rouge2\": rouge_result[\"rouge2\"],\n",
    "        \"rougeL\": rouge_result[\"rougeL\"],\n",
    "        \"bleu\": bleu_result[\"bleu\"],\n",
    "    }\n"
   ]
  },
  {
   "cell_type": "code",
   "execution_count": 19,
   "metadata": {},
   "outputs": [
    {
     "data": {
      "application/vnd.jupyter.widget-view+json": {
       "model_id": "d1eb01913ec843c199a59da1596317a8",
       "version_major": 2,
       "version_minor": 0
      },
      "text/plain": [
       "Generating train split: 0 examples [00:00, ? examples/s]"
      ]
     },
     "metadata": {},
     "output_type": "display_data"
    },
    {
     "data": {
      "application/vnd.jupyter.widget-view+json": {
       "model_id": "ba2df40cc29247fc97ebe25dcb17c29b",
       "version_major": 2,
       "version_minor": 0
      },
      "text/plain": [
       "Generating eval split: 0 examples [00:00, ? examples/s]"
      ]
     },
     "metadata": {},
     "output_type": "display_data"
    },
    {
     "data": {
      "application/vnd.jupyter.widget-view+json": {
       "model_id": "5c3c272ea41340f4b7ad1baf9c2e480e",
       "version_major": 2,
       "version_minor": 0
      },
      "text/plain": [
       "Map:   0%|          | 0/2452 [00:00<?, ? examples/s]"
      ]
     },
     "metadata": {},
     "output_type": "display_data"
    },
    {
     "data": {
      "application/vnd.jupyter.widget-view+json": {
       "model_id": "1cd4016afa764f538760746d5221bc02",
       "version_major": 2,
       "version_minor": 0
      },
      "text/plain": [
       "Map:   0%|          | 0/273 [00:00<?, ? examples/s]"
      ]
     },
     "metadata": {},
     "output_type": "display_data"
    }
   ],
   "source": [
    "from datasets import load_dataset\n",
    "def format_supervised_data(train_file, eval_file ):\n",
    "    dataset = load_dataset(\"json\", data_files={\"train\": train_file, \"eval\": eval_file})\n",
    "\n",
    "    train_data = dataset[\"train\"].map(preprocess)\n",
    "    eval_data = dataset[\"eval\"].map(preprocess)\n",
    "\n",
    "    train_data.set_format(\"torch\", columns=[\"input_ids\", \"attention_mask\", \"labels\"])\n",
    "    eval_data.set_format(\"torch\", columns=[\"input_ids\", \"attention_mask\", \"labels\"])\n",
    "    return train_data, eval_data\n",
    "\n",
    "train_data, eval_data = format_supervised_data( \"train_600_1_2.jsonl\", \"eval_600_1_2.jsonl\")\n"
   ]
  },
  {
   "cell_type": "code",
   "execution_count": null,
   "metadata": {},
   "outputs": [],
   "source": [
    "def set_up_lora(MODEL_NAME, lora_config_path=\"\", training = False):\n",
    "    bnb_config = BitsAndBytesConfig(\n",
    "        load_in_4bit=True,\n",
    "        bnb_4bit_use_double_quant=True,\n",
    "        bnb_4bit_quant_type=\"nf4\",\n",
    "        bnb_4bit_compute_dtype=torch.float16\n",
    "    )\n",
    "    config = AutoConfig.from_pretrained(MODEL_NAME)\n",
    "    # manually set rope_scaling to supported structure:\n",
    "    config.rope_scaling = {\"type\": \"dynamic\", \"factor\": 2.0}\n",
    "    config.use_cache = not training\n",
    "\n",
    "\n",
    "    model = AutoModelForCausalLM.from_pretrained(\n",
    "        MODEL_NAME,\n",
    "        quantization_config=bnb_config,\n",
    "        config=config,\n",
    "        device_map=\"auto\"\n",
    "    )\n",
    "    #model.get_input_embeddings().weight.requires_grad = True\n",
    "    if training:\n",
    "        model.gradient_checkpointing_enable()\n",
    "        model.enable_input_require_grads()\n",
    "    # LoRA configuration\n",
    "    if lora_config_path == \"\":\n",
    "        lora_config = LoraConfig( r=16,\n",
    "            lora_alpha=32,\n",
    "            target_modules=[\"q_proj\", \"k_proj\", \"v_proj\", \"o_proj\"],\n",
    "            lora_dropout=0.05,\n",
    "            bias=\"none\",\n",
    "            task_type=TaskType.CAUSAL_LM\n",
    "        )\n",
    "        print(type(config))\n",
    "        config.inference_mode = not training\n",
    "        model = get_peft_model(model, lora_config)\n",
    "    else:\n",
    "        config = LoraConfig.from_pretrained(lora_config_path)\n",
    "        config.inference_mode =  not training\n",
    "        print(type(config))\n",
    "        print(type(model))\n",
    "        model = get_peft_model(model, config)\n",
    "        \n",
    "\n",
    "    return model\n",
    "\n",
    "\n",
    "\n",
    "\n",
    "\n"
   ]
  },
  {
   "cell_type": "code",
   "execution_count": 22,
   "metadata": {},
   "outputs": [
    {
     "data": {
      "application/vnd.jupyter.widget-view+json": {
       "model_id": "63e2afd2d5364d98be88d2941ffdc89f",
       "version_major": 2,
       "version_minor": 0
      },
      "text/plain": [
       "Loading checkpoint shards:   0%|          | 0/2 [00:00<?, ?it/s]"
      ]
     },
     "metadata": {},
     "output_type": "display_data"
    },
    {
     "name": "stderr",
     "output_type": "stream",
     "text": [
      "No label_names provided for model class `PeftModelForCausalLM`. Since `PeftModel` hides base models input arguments, if label_names is not given, label_names can't be set automatically within `Trainer`. Note that empty label_names list will be used instead.\n"
     ]
    }
   ],
   "source": [
    "\n",
    "# from bitsandbytes.optim import AdamW8bit\n",
    "# optimizer = AdamW8bit(model.parameters(), lr=3e-4, betas=(0.9, 0.95), eps=1e-8)\n",
    "# from transformers import get_cosine_schedule_with_warmup\n",
    "batch_size = 4\n",
    "calculation_steps = 8\n",
    "num_epochs = 2\n",
    "# total_training_steps = (len(train_data) // (batch_size * calculation_steps)) * num_epochs\n",
    "# num_training_steps = total_training_steps  # calculate this\n",
    "# num_warmup_steps = int(0.03 * num_training_steps)\n",
    "\n",
    "# lr_scheduler = get_cosine_schedule_with_warmup(\n",
    "#     optimizer=optimizer,\n",
    "#     num_warmup_steps=num_warmup_steps,\n",
    "#     num_training_steps=num_training_steps\n",
    "# )\n",
    "\n",
    "def set_up_training_args(batch_size, calculation_steps, num_epochs):\n",
    "\n",
    "    training_args = TrainingArguments(\n",
    "            output_dir=\"./llama-3.2-3b-instruct-lora\",\n",
    "            per_device_train_batch_size=batch_size,       # Small due to memory limits\n",
    "            gradient_accumulation_steps=calculation_steps,      # 64 is high; 32 balances speed & memory\n",
    "            num_train_epochs=num_epochs,                  # Same as before\n",
    "            learning_rate=3e-4,                   # 6: Standard for LoRA tuning\n",
    "            lr_scheduler_type=\"cosine\",           # Good decay schedule\n",
    "            warmup_ratio=0.01,                    # Slightly lower to prevent slow start\n",
    "            weight_decay=0.005,                    # More balanced\n",
    "            fp16=True,                            # Mixed precision training\n",
    "            gradient_checkpointing=True,          # Reduces memory usage\n",
    "            max_grad_norm=1.0,                    # More stable than 0.8\n",
    "            save_total_limit=2,                    # Keep last 2 checkpoints\n",
    "            save_steps=100,                        # Save frequently for monitoring\n",
    "            logging_dir=\"./logs\",\n",
    "            logging_steps=1,                       # Logs every step\n",
    "            eval_steps=100,                        # <-- Slightly reduce eval frequency (less memory overhead)\n",
    "            eval_strategy=\"steps\",                  #not enough of data for \"epoch\"\n",
    "            #optimizer=(optimizer,lr_scheduler),             # Best optimizer for quantized models\n",
    "            optim=\"adamw_bnb_8bit\",\n",
    "            #optim_args={\"lr_scheduler\": lr_scheduler, \"optimizer\": optimizer},\n",
    "            report_to=\"none\",                       # No external logging\n",
    "            metric_for_best_model=\"rougeL\",\n",
    "            load_best_model_at_end=True,\n",
    "            greater_is_better=True\n",
    "    )\n",
    "    return training_args\n",
    "\n",
    "\n",
    "model = set_up_lora(MODEL_NAME)\n",
    "\n",
    "training_args = set_up_training_args(batch_size, calculation_steps, num_epochs)\n",
    "\n",
    "tokenizer = AutoTokenizer.from_pretrained(MODEL_NAME, use_fast=True)\n",
    "tokenizer.pad_token = tokenizer.eos_token\n",
    "# Trainer setup\n",
    "trainer = Trainer(\n",
    "    model=model,\n",
    "    args=training_args,\n",
    "    train_dataset=train_data,\n",
    "    eval_dataset=eval_data,\n",
    "    data_collator=DataCollatorForLanguageModeling(tokenizer=tokenizer, mlm=False),\n",
    "    compute_metrics=compute_metrics,\n",
    ")\n",
    "\n",
    "\n",
    "\n"
   ]
  },
  {
   "cell_type": "code",
   "execution_count": 23,
   "metadata": {},
   "outputs": [],
   "source": [
    "# import torch, gc\n",
    "\n",
    "# torch.cuda.empty_cache()  # Clears GPU memory immediately\n",
    "# gc.collect()              # Collects any lingering objects in Python memory\n",
    "\n",
    "\n",
    "\n",
    "# #trainer.train()\n",
    "\n",
    "# # Save final model\n",
    "# model.save_pretrained(\"final_adapter_with_eval\")\n",
    "# tokenizer.save_pretrained(\"final_adapter_with_eval\")"
   ]
  },
  {
   "cell_type": "code",
   "execution_count": null,
   "metadata": {},
   "outputs": [],
   "source": [
    "\n",
    "\n",
    "# import torch, gc\n",
    "\n",
    "\n",
    "\n",
    "# torch.cuda.empty_cache()  # Clears GPU memory immediately\n",
    "# gc.collect()              # Collects any lingering objects in Python memory\n",
    "\n",
    "trainer.evaluate()"
   ]
  },
  {
   "cell_type": "code",
   "execution_count": 1,
   "metadata": {},
   "outputs": [
    {
     "ename": "ModuleNotFoundError",
     "evalue": "No module named 'transformers'",
     "output_type": "error",
     "traceback": [
      "\u001b[31m---------------------------------------------------------------------------\u001b[39m",
      "\u001b[31mModuleNotFoundError\u001b[39m                       Traceback (most recent call last)",
      "\u001b[36mCell\u001b[39m\u001b[36m \u001b[39m\u001b[32mIn[1]\u001b[39m\u001b[32m, line 1\u001b[39m\n\u001b[32m----> \u001b[39m\u001b[32m1\u001b[39m \u001b[38;5;28;01mfrom\u001b[39;00m \u001b[34;01mtransformers\u001b[39;00m \u001b[38;5;28;01mimport\u001b[39;00m AutoTokenizer, AutoModelForCausalLM\n\u001b[32m      2\u001b[39m \u001b[38;5;28;01mfrom\u001b[39;00m \u001b[34;01mpeft\u001b[39;00m \u001b[38;5;28;01mimport\u001b[39;00m PeftModel, PeftConfig\n\u001b[32m      3\u001b[39m \u001b[38;5;28;01mimport\u001b[39;00m \u001b[34;01mtorch\u001b[39;00m\n",
      "\u001b[31mModuleNotFoundError\u001b[39m: No module named 'transformers'"
     ]
    }
   ],
   "source": [
    "from transformers import AutoTokenizer, AutoModelForCausalLM\n",
    "from peft import PeftModel, PeftConfig\n",
    "import torch\n",
    "\n",
    "# Load tokenizer\n",
    "model_name = \"meta-llama/Llama-3.2-3B-Instruct\"  # or the base model you trained on\n",
    "tokenizer = AutoTokenizer.from_pretrained(model_name)\n",
    "tokenizer.pad_token = tokenizer.eos_token\n",
    "\n",
    "# Load base model in 4-bit if you used quantization\n",
    "from transformers import BitsAndBytesConfig\n",
    "\n",
    "bnb_config = BitsAndBytesConfig(\n",
    "    load_in_4bit=True,\n",
    "    bnb_4bit_use_double_quant=True,\n",
    "    bnb_4bit_quant_type=\"nf4\",\n",
    "    bnb_4bit_compute_dtype=torch.float16\n",
    ")\n",
    "\n",
    "base_model = AutoModelForCausalLM.from_pretrained(\n",
    "    model_name,\n",
    "    device_map=\"auto\",\n",
    "    quantization_config=bnb_config,\n",
    "    torch_dtype=torch.float16\n",
    ")\n",
    "# Load your LoRA adapter\n",
    "adapter_path = \"./../Training/final_adapter_with_eval\"  # or wherever your adapter_model.safetensors is\n",
    "model = PeftModel.from_pretrained(base_model, adapter_path)\n",
    "model.config.use_cache = True\n"
   ]
  },
  {
   "cell_type": "code",
   "execution_count": null,
   "metadata": {},
   "outputs": [],
   "source": []
  },
  {
   "cell_type": "code",
   "execution_count": null,
   "metadata": {},
   "outputs": [
    {
     "name": "stdout",
     "output_type": "stream",
     "text": [
      "Loaded 99 valid objects from ./InputNLabel/filtered_labels/filtered_formatted.json\n",
      "Using 98 objects from ./InputNLabel/filtered_labels/filtered_formatted.json\n",
      "Loaded 100 valid objects from ./InputNLabel/filtered_labels/filtered_randoms.json\n",
      "Using 99 objects from ./InputNLabel/filtered_labels/filtered_randoms.json\n",
      "Loaded 100 valid objects from ./InputNLabel/filtered_labels/filtered_receipts.json\n",
      "Using 99 objects from ./InputNLabel/filtered_labels/filtered_receipts.json\n",
      "Loaded 30 valid objects from ./InputNLabel/filtered_labels/filtered_reports.json\n",
      "Using 29 objects from ./InputNLabel/filtered_labels/filtered_reports.json\n",
      "Loaded 300 valid objects from ./InputNLabel/prompt_sensitive_translated/formatted_1.json\n",
      "Using 300 objects from ./InputNLabel/prompt_sensitive_translated/formatted_1.json\n",
      "Loaded 300 valid objects from ./InputNLabel/prompt_sensitive_translated/random_1.json\n",
      "Using 300 objects from ./InputNLabel/prompt_sensitive_translated/random_1.json\n",
      "Loaded 300 valid objects from ./InputNLabel/prompt_sensitive_translated/receipts_1.json\n",
      "Using 300 objects from ./InputNLabel/prompt_sensitive_translated/receipts_1.json\n",
      "Loaded 300 valid objects from ./InputNLabel/prompt_sensitive_translated/reports_1.json\n",
      "Using 300 objects from ./InputNLabel/prompt_sensitive_translated/reports_1.json\n",
      "Total combined dataset size: 1525\n",
      "Train data saved to: train_1.jsonl (1372 entries)\n",
      "Eval data saved to: eval_1.jsonl (153 entries)\n"
     ]
    },
    {
     "data": {
      "application/vnd.jupyter.widget-view+json": {
       "model_id": "9c0ca3a92cdc4bbb8bd8df4878de6079",
       "version_major": 2,
       "version_minor": 0
      },
      "text/plain": [
       "Generating train split: 0 examples [00:00, ? examples/s]"
      ]
     },
     "metadata": {},
     "output_type": "display_data"
    },
    {
     "data": {
      "application/vnd.jupyter.widget-view+json": {
       "model_id": "3031130717234a61808b567cf2f7b5ff",
       "version_major": 2,
       "version_minor": 0
      },
      "text/plain": [
       "Generating eval split: 0 examples [00:00, ? examples/s]"
      ]
     },
     "metadata": {},
     "output_type": "display_data"
    },
    {
     "data": {
      "application/vnd.jupyter.widget-view+json": {
       "model_id": "7b3d2265ca6f4ab395465412e8b60f03",
       "version_major": 2,
       "version_minor": 0
      },
      "text/plain": [
       "Map:   0%|          | 0/1372 [00:00<?, ? examples/s]"
      ]
     },
     "metadata": {},
     "output_type": "display_data"
    },
    {
     "data": {
      "application/vnd.jupyter.widget-view+json": {
       "model_id": "54c249f0eadf45379055a4c714bab68a",
       "version_major": 2,
       "version_minor": 0
      },
      "text/plain": [
       "Map:   0%|          | 0/153 [00:00<?, ? examples/s]"
      ]
     },
     "metadata": {},
     "output_type": "display_data"
    },
    {
     "data": {
      "application/vnd.jupyter.widget-view+json": {
       "model_id": "776e68e21dd54c82a5cfb6d15af3a63f",
       "version_major": 2,
       "version_minor": 0
      },
      "text/plain": [
       "Loading checkpoint shards:   0%|          | 0/2 [00:00<?, ?it/s]"
      ]
     },
     "metadata": {},
     "output_type": "display_data"
    },
    {
     "name": "stdout",
     "output_type": "stream",
     "text": [
      "<class 'transformers.models.llama.configuration_llama.LlamaConfig'>\n"
     ]
    },
    {
     "name": "stderr",
     "output_type": "stream",
     "text": [
      "No label_names provided for model class `PeftModelForCausalLM`. Since `PeftModel` hides base models input arguments, if label_names is not given, label_names can't be set automatically within `Trainer`. Note that empty label_names list will be used instead.\n"
     ]
    }
   ],
   "source": [
    "def generate_summary(input_text, max_new_tokens=150):\n",
    "    prompt = f\"summarize:{input_text}\"\n",
    "    \n",
    "    inputs = tokenizer(prompt, return_tensors=\"pt\").to(model.device)\n",
    "    \n",
    "    with torch.no_grad():\n",
    "        outputs = model.generate(\n",
    "            **inputs,\n",
    "            max_new_tokens=max_new_tokens,\n",
    "            do_sample=True,\n",
    "            temperature=0.7,\n",
    "            top_p=0.9\n",
    "        )\n",
    "\n",
    "    summary = tokenizer.decode(outputs[0], skip_special_tokens=True)\n",
    "    return summary\n",
    "\n",
    "def generate_base_summary(input_text, max_new_tokens=150):\n",
    "    prompt = f\"summarize :{input_text}\\n summary:\"\n",
    "    \n",
    "    inputs = tokenizer(prompt, return_tensors=\"pt\").to(model.device)\n",
    "    \n",
    "    with torch.no_grad():\n",
    "        outputs = base_model.generate(\n",
    "            **inputs,\n",
    "            max_new_tokens=max_new_tokens,\n",
    "            do_sample=True,\n",
    "            temperature=0.7,\n",
    "            top_p=0.9\n",
    "        )\n",
    "\n",
    "    summary = tokenizer.decode(outputs[0], skip_special_tokens=True)\n",
    "    return summary\n"
   ]
  },
  {
   "cell_type": "code",
   "execution_count": null,
   "metadata": {},
   "outputs": [],
   "source": [
    "def get_json_from_file(file_path):\n",
    "\n",
    "    with open(file_path, \"r\", encoding=\"utf-8\") as file:\n",
    "        data = file.read().strip()\n",
    "\n",
    "        # Fix concatenated JSON objects\n",
    "        objs = data.split(\"}{\")\n",
    "\n",
    "        parsed_objs = []\n",
    "        for i, obj in enumerate(objs):\n",
    "            if not obj.startswith(\"{\"):\n",
    "                obj = \"{\" + obj\n",
    "            if not obj.endswith(\"}\"):\n",
    "                obj = obj + \"}\"\n",
    "            try:\n",
    "                parsed = json.loads(obj)\n",
    "                parsed_objs.append(parsed)\n",
    "            except json.JSONDecodeError as e:\n",
    "                print(f\"Error decoding JSON in file {file_path}, object {i}: {e}\")\n",
    "    return parsed_objs"
   ]
  },
  {
   "cell_type": "code",
   "execution_count": null,
   "metadata": {},
   "outputs": [],
   "source": [
    "formatted_chunks = \"./../Training/InputNLabel/prompt_sensitive_translated/formatted_2.json\"\n",
    "receipt_chunks = \"./../Training/InputNLabel/prompt_sensitive_translated/receipts_2.json\"\n",
    "report_chunks = \"./../Training/InputNLabel/prompt_sensitive_translated/reports_2.json\"\n",
    "random_chunks = \"./../Training/InputNLabel/prompt_sensitive_translated/random_2.json\"\n",
    "\n",
    "formatted = get_json_from_file(formatted_chunks)\n",
    "receipts = get_json_from_file(receipt_chunks)\n",
    "reports = get_json_from_file(report_chunks)\n",
    "randoms = get_json_from_file(random_chunks)\n",
    "\n",
    "print(\"PDFs with formats\",len(formatted))\n",
    "print(\"PDFs of recipts that need ocr\", len(receipts))\n",
    "print(\"PDFs of well written long papers, no ocr\",len(reports))\n",
    "print(\"PDFs of all sorts\",len(randoms))\n",
    "\n",
    "\n",
    "print(formatted[0][\"input\"])\n"
   ]
  }
 ],
 "metadata": {
  "kernelspec": {
   "display_name": "cmlhw_mac",
   "language": "python",
   "name": "python3"
  },
  "language_info": {
   "codemirror_mode": {
    "name": "ipython",
    "version": 3
   },
   "file_extension": ".py",
   "mimetype": "text/x-python",
   "name": "python",
   "nbconvert_exporter": "python",
   "pygments_lexer": "ipython3",
   "version": "3.11.10"
  }
 },
 "nbformat": 4,
 "nbformat_minor": 2
}
