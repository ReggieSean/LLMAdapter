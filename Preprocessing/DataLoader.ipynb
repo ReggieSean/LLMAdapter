{
 "cells": [
  {
   "cell_type": "code",
   "execution_count": null,
   "metadata": {},
   "outputs": [
    {
     "name": "stderr",
     "output_type": "stream",
     "text": [
      "/Users/seanhuang/opt/anaconda3/envs/cml/lib/python3.9/site-packages/tqdm/auto.py:21: TqdmWarning: IProgress not found. Please update jupyter and ipywidgets. See https://ipywidgets.readthedocs.io/en/stable/user_install.html\n",
      "  from .autonotebook import tqdm as notebook_tqdm\n"
     ]
    },
    {
     "name": "stdout",
     "output_type": "stream",
     "text": [
      "Downloading from https://www.kaggle.com/api/v1/datasets/download/manisha717/dataset-of-pdf-files?dataset_version_number=1...\n"
     ]
    },
    {
     "name": "stderr",
     "output_type": "stream",
     "text": [
      "100%|██████████| 769M/769M [08:05<00:00, 1.66MB/s] "
     ]
    },
    {
     "name": "stdout",
     "output_type": "stream",
     "text": [
      "Extracting files...\n"
     ]
    },
    {
     "name": "stderr",
     "output_type": "stream",
     "text": [
      "\n"
     ]
    }
   ],
   "source": [
    "import kagglehub\n",
    "\n",
    "# Download latest version\n",
    "#path = kagglehub.dataset_download(\"manisha717/dataset-of-pdf-files\")"
   ]
  },
  {
   "cell_type": "code",
   "execution_count": null,
   "metadata": {},
   "outputs": [
    {
     "name": "stdout",
     "output_type": "stream",
     "text": [
      "Path to dataset files: /Users/seanhuang/.cache/kagglehub/datasets/manisha717/dataset-of-pdf-files/versions/1\n"
     ]
    }
   ],
   "source": [
    "print(\"Path to dataset files:\", path)\n",
    "#Path to dataset files: /Users/seanhuang/.cache/kagglehub/datasets/manisha717/dataset-of-pdf-files/versions/1\n"
   ]
  },
  {
   "cell_type": "code",
   "execution_count": null,
   "metadata": {},
   "outputs": [
    {
     "name": "stdout",
     "output_type": "stream",
     "text": [
      "Downloading from https://www.kaggle.com/api/v1/datasets/download/jenswalter/receipts?dataset_version_number=15...\n"
     ]
    },
    {
     "name": "stderr",
     "output_type": "stream",
     "text": [
      "100%|██████████| 176M/176M [02:12<00:00, 1.39MB/s] "
     ]
    },
    {
     "name": "stdout",
     "output_type": "stream",
     "text": [
      "Extracting files...\n"
     ]
    },
    {
     "name": "stderr",
     "output_type": "stream",
     "text": [
      "\n"
     ]
    },
    {
     "name": "stdout",
     "output_type": "stream",
     "text": [
      "Path to dataset files: /Users/seanhuang/.cache/kagglehub/datasets/jenswalter/receipts/versions/15\n"
     ]
    }
   ],
   "source": [
    "#path = kagglehub.dataset_download(\"jenswalter/receipts\")\n",
    "print(\"Path to dataset files:\", path)\n",
    "# /Users/seanhuang/.cache/kagglehub/datasets/jenswalter/receipts/versions/15\n"
   ]
  },
  {
   "cell_type": "code",
   "execution_count": 40,
   "metadata": {},
   "outputs": [],
   "source": [
    "import fitz\n",
    "import sys\n",
    "import os\n",
    "#extracting with partial ocr\n",
    "#https://github.com/pymupdf/PyMuPDF-Utilities/blob/master/jupyter-notebooks/partial-ocr.ipynb\n",
    "import pymupdf"
   ]
  },
  {
   "cell_type": "code",
   "execution_count": null,
   "metadata": {},
   "outputs": [],
   "source": [
    "def extract_normally( in_base : str, out_base: str, relative_file_path : str): \n",
    "    in_path = os.path.abspath( in_base + relative_file_path)\n",
    "    file_name = relative_file_path.replace(\".pdf\", \".txt\")\n",
    "    out_path = os.path.abspath(out_base +  file_name)\n",
    "    print(in_path)\n",
    "    print(out_path)\n",
    "\n",
    "    try: \n",
    "\n",
    "        doc = pymupdf.open(in_path)  # Open the PDF document\n",
    "        # Ensure the output directory exists\n",
    "\n",
    "        # Create output file name (replace .pdf with .txt)\n",
    "        os.makedirs(os.path.dirname(out_path), exist_ok=True)\n",
    "        with open(out_path, \"w\", encoding=\"utf-8\") as out:\n",
    "            for page in doc:  # Iterate through pages\n",
    "            \n",
    "                partial_tp = page.get_textpage_ocr(flags=0, full = False)\n",
    "                text = page.get_text(textpage=partial_tp)  # Get page text\n",
    "                out.write(text)  # Write text to file\n",
    "                out.write(\"\\n\" + (\"-\" * 50) + \"\\n\")  # Page separator\n",
    "        print(f\"Extracted text saved to: {out_path}\") \n",
    "    except Exception as e:\n",
    "        tb = sys.exc_info()[2]\n",
    "        lineno = tb.tb_lineno\n",
    "        # Print the exception type, the error message, and the line number\n",
    "        print(f\"Exception Type: {type(e).__name__}\")\n",
    "        print(f\"Error Message: {e}\")\n",
    "        print(f\"Line Number: {lineno}\")\n"
   ]
  },
  {
   "cell_type": "code",
   "execution_count": 39,
   "metadata": {},
   "outputs": [
    {
     "name": "stdout",
     "output_type": "stream",
     "text": [
      "/Users/seanhuang/Grad/adapter/Data/Raw/WithFormat/Company Documents Dataset/CompanyDocuments/Inventory Report/monthly/monthly/StockReport_2016-07.pdf\n",
      "/Users/seanhuang/Grad/adapter/Data/Extracted/WithFormat/Company Documents Dataset/CompanyDocuments/Inventory Report/monthly/monthly/StockReport_2016-07.txt\n",
      "Exception Type: RuntimeError\n",
      "Error Message: No tessdata specified and Tesseract is not installed\n",
      "Line Number: 18\n"
     ]
    }
   ],
   "source": [
    "\n",
    "#data start base folder:\n",
    "base_folder = \"/Users/seanhuang/Grad/adapter/Data/Raw\"\n",
    "extracted_base_folder = \"/Users/seanhuang/Grad/adapter/Data/Extracted\"\n",
    "file_path = \"/WithFormat/Company Documents Dataset/CompanyDocuments/Inventory Report/monthly/monthly/StockReport_2016-07.pdf\"\n",
    "text = extract_normally(base_folder,extracted_base_folder, file_path)\n"
   ]
  },
  {
   "cell_type": "code",
   "execution_count": null,
   "metadata": {},
   "outputs": [],
   "source": []
  },
  {
   "cell_type": "code",
   "execution_count": null,
   "metadata": {},
   "outputs": [],
   "source": []
  }
 ],
 "metadata": {
  "kernelspec": {
   "display_name": "cml",
   "language": "python",
   "name": "python3"
  },
  "language_info": {
   "codemirror_mode": {
    "name": "ipython",
    "version": 3
   },
   "file_extension": ".py",
   "mimetype": "text/x-python",
   "name": "python",
   "nbconvert_exporter": "python",
   "pygments_lexer": "ipython3",
   "version": "3.9.19"
  }
 },
 "nbformat": 4,
 "nbformat_minor": 2
}
